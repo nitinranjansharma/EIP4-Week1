{
  "nbformat": 4,
  "nbformat_minor": 0,
  "metadata": {
    "colab": {
      "name": "Assignment 3.ipynb",
      "provenance": [],
      "collapsed_sections": [],
      "include_colab_link": true
    },
    "kernelspec": {
      "name": "python3",
      "display_name": "Python 3"
    },
    "accelerator": "GPU"
  },
  "cells": [
    {
      "cell_type": "markdown",
      "metadata": {
        "id": "view-in-github",
        "colab_type": "text"
      },
      "source": [
        "<a href=\"https://colab.research.google.com/github/nitinranjansharma/EIP4-Week1/blob/master/Week3/Assignment_3.ipynb\" target=\"_parent\"><img src=\"https://colab.research.google.com/assets/colab-badge.svg\" alt=\"Open In Colab\"/></a>"
      ]
    },
    {
      "cell_type": "code",
      "metadata": {
        "id": "lQduXsxB7POA",
        "colab_type": "code",
        "colab": {}
      },
      "source": [
        "# validation score on original = 83.44"
      ],
      "execution_count": 0,
      "outputs": []
    },
    {
      "cell_type": "code",
      "metadata": {
        "id": "qQy92Q1G7FGR",
        "colab_type": "code",
        "colab": {
          "base_uri": "https://localhost:8080/",
          "height": 675
        },
        "outputId": "34f529fc-e8f4-4747-a2a7-544a938fab45"
      },
      "source": [
        "! pip install six numpy scipy Pillow matplotlib scikit-image opencv-python imageio Shapely\n",
        "! pip install imgaug"
      ],
      "execution_count": 1,
      "outputs": [
        {
          "output_type": "stream",
          "text": [
            "Requirement already satisfied: six in /usr/local/lib/python3.6/dist-packages (1.12.0)\n",
            "Requirement already satisfied: numpy in /usr/local/lib/python3.6/dist-packages (1.17.4)\n",
            "Requirement already satisfied: scipy in /usr/local/lib/python3.6/dist-packages (1.3.2)\n",
            "Requirement already satisfied: Pillow in /usr/local/lib/python3.6/dist-packages (4.3.0)\n",
            "Requirement already satisfied: matplotlib in /usr/local/lib/python3.6/dist-packages (3.1.1)\n",
            "Requirement already satisfied: scikit-image in /usr/local/lib/python3.6/dist-packages (0.15.0)\n",
            "Requirement already satisfied: opencv-python in /usr/local/lib/python3.6/dist-packages (3.4.7.28)\n",
            "Requirement already satisfied: imageio in /usr/local/lib/python3.6/dist-packages (2.4.1)\n",
            "Requirement already satisfied: Shapely in /usr/local/lib/python3.6/dist-packages (1.6.4.post2)\n",
            "Requirement already satisfied: olefile in /usr/local/lib/python3.6/dist-packages (from Pillow) (0.46)\n",
            "Requirement already satisfied: cycler>=0.10 in /usr/local/lib/python3.6/dist-packages (from matplotlib) (0.10.0)\n",
            "Requirement already satisfied: kiwisolver>=1.0.1 in /usr/local/lib/python3.6/dist-packages (from matplotlib) (1.1.0)\n",
            "Requirement already satisfied: python-dateutil>=2.1 in /usr/local/lib/python3.6/dist-packages (from matplotlib) (2.6.1)\n",
            "Requirement already satisfied: pyparsing!=2.0.4,!=2.1.2,!=2.1.6,>=2.0.1 in /usr/local/lib/python3.6/dist-packages (from matplotlib) (2.4.5)\n",
            "Requirement already satisfied: PyWavelets>=0.4.0 in /usr/local/lib/python3.6/dist-packages (from scikit-image) (1.1.1)\n",
            "Requirement already satisfied: networkx>=2.0 in /usr/local/lib/python3.6/dist-packages (from scikit-image) (2.4)\n",
            "Requirement already satisfied: setuptools in /usr/local/lib/python3.6/dist-packages (from kiwisolver>=1.0.1->matplotlib) (41.6.0)\n",
            "Requirement already satisfied: decorator>=4.3.0 in /usr/local/lib/python3.6/dist-packages (from networkx>=2.0->scikit-image) (4.4.1)\n",
            "Requirement already satisfied: imgaug in /usr/local/lib/python3.6/dist-packages (0.2.9)\n",
            "Requirement already satisfied: Pillow in /usr/local/lib/python3.6/dist-packages (from imgaug) (4.3.0)\n",
            "Requirement already satisfied: numpy>=1.15.0 in /usr/local/lib/python3.6/dist-packages (from imgaug) (1.17.4)\n",
            "Requirement already satisfied: opencv-python in /usr/local/lib/python3.6/dist-packages (from imgaug) (3.4.7.28)\n",
            "Requirement already satisfied: imageio in /usr/local/lib/python3.6/dist-packages (from imgaug) (2.4.1)\n",
            "Requirement already satisfied: scipy in /usr/local/lib/python3.6/dist-packages (from imgaug) (1.3.2)\n",
            "Requirement already satisfied: six in /usr/local/lib/python3.6/dist-packages (from imgaug) (1.12.0)\n",
            "Requirement already satisfied: Shapely in /usr/local/lib/python3.6/dist-packages (from imgaug) (1.6.4.post2)\n",
            "Requirement already satisfied: matplotlib in /usr/local/lib/python3.6/dist-packages (from imgaug) (3.1.1)\n",
            "Requirement already satisfied: scikit-image>=0.11.0 in /usr/local/lib/python3.6/dist-packages (from imgaug) (0.15.0)\n",
            "Requirement already satisfied: olefile in /usr/local/lib/python3.6/dist-packages (from Pillow->imgaug) (0.46)\n",
            "Requirement already satisfied: pyparsing!=2.0.4,!=2.1.2,!=2.1.6,>=2.0.1 in /usr/local/lib/python3.6/dist-packages (from matplotlib->imgaug) (2.4.5)\n",
            "Requirement already satisfied: kiwisolver>=1.0.1 in /usr/local/lib/python3.6/dist-packages (from matplotlib->imgaug) (1.1.0)\n",
            "Requirement already satisfied: cycler>=0.10 in /usr/local/lib/python3.6/dist-packages (from matplotlib->imgaug) (0.10.0)\n",
            "Requirement already satisfied: python-dateutil>=2.1 in /usr/local/lib/python3.6/dist-packages (from matplotlib->imgaug) (2.6.1)\n",
            "Requirement already satisfied: networkx>=2.0 in /usr/local/lib/python3.6/dist-packages (from scikit-image>=0.11.0->imgaug) (2.4)\n",
            "Requirement already satisfied: PyWavelets>=0.4.0 in /usr/local/lib/python3.6/dist-packages (from scikit-image>=0.11.0->imgaug) (1.1.1)\n",
            "Requirement already satisfied: setuptools in /usr/local/lib/python3.6/dist-packages (from kiwisolver>=1.0.1->matplotlib->imgaug) (41.6.0)\n",
            "Requirement already satisfied: decorator>=4.3.0 in /usr/local/lib/python3.6/dist-packages (from networkx>=2.0->scikit-image>=0.11.0->imgaug) (4.4.1)\n"
          ],
          "name": "stdout"
        }
      ]
    },
    {
      "cell_type": "code",
      "metadata": {
        "id": "DOhu1hJs7UHq",
        "colab_type": "code",
        "colab": {}
      },
      "source": [
        "import imgaug.augmenters as iaa"
      ],
      "execution_count": 0,
      "outputs": []
    },
    {
      "cell_type": "code",
      "metadata": {
        "id": "IlPjWEKo7deF",
        "colab_type": "code",
        "colab": {
          "base_uri": "https://localhost:8080/",
          "height": 81
        },
        "outputId": "8f9cd482-64f7-4afd-f18c-dfe47c490a5c"
      },
      "source": [
        "from keras import backend as K\n",
        "import time\n",
        "import matplotlib.pyplot as plt\n",
        "import numpy as np\n",
        "% matplotlib inline\n",
        "np.random.seed(2019) \n",
        "from keras.models import Sequential\n",
        "from keras.layers.convolutional import Convolution2D, MaxPooling2D, SeparableConv2D\n",
        "from keras.layers import Activation, Flatten, Dense, Dropout,GlobalAveragePooling2D\n",
        "from keras.layers.normalization import BatchNormalization\n",
        "from keras.utils import np_utils"
      ],
      "execution_count": 3,
      "outputs": [
        {
          "output_type": "stream",
          "text": [
            "Using TensorFlow backend.\n"
          ],
          "name": "stderr"
        },
        {
          "output_type": "display_data",
          "data": {
            "text/html": [
              "<p style=\"color: red;\">\n",
              "The default version of TensorFlow in Colab will soon switch to TensorFlow 2.x.<br>\n",
              "We recommend you <a href=\"https://www.tensorflow.org/guide/migrate\" target=\"_blank\">upgrade</a> now \n",
              "or ensure your notebook will continue to use TensorFlow 1.x via the <code>%tensorflow_version 1.x</code> magic:\n",
              "<a href=\"https://colab.research.google.com/notebooks/tensorflow_version.ipynb\" target=\"_blank\">more info</a>.</p>\n"
            ],
            "text/plain": [
              "<IPython.core.display.HTML object>"
            ]
          },
          "metadata": {
            "tags": []
          }
        }
      ]
    },
    {
      "cell_type": "code",
      "metadata": {
        "id": "6Vd2kOJd78yH",
        "colab_type": "code",
        "colab": {}
      },
      "source": [
        "from keras.datasets import cifar10\n",
        "(train_features, train_labels), (test_features, test_labels) = cifar10.load_data()\n",
        "num_train, img_channels, img_rows, img_cols =  train_features.shape\n",
        "num_test, _, _, _ =  test_features.shape\n",
        "num_classes = len(np.unique(train_labels))"
      ],
      "execution_count": 0,
      "outputs": []
    },
    {
      "cell_type": "code",
      "metadata": {
        "id": "mVdawjgW8Phk",
        "colab_type": "code",
        "outputId": "8ff6aca7-aadd-4b07-dc9f-3b84e8aecfe1",
        "colab": {
          "base_uri": "https://localhost:8080/",
          "height": 213
        }
      },
      "source": [
        "class_names = ['airplane','automobile','bird','cat','deer',\n",
        "               'dog','frog','horse','ship','truck']\n",
        "fig = plt.figure(figsize=(8,3))\n",
        "for i in range(num_classes):\n",
        "    ax = fig.add_subplot(2, 5, 1 + i, xticks=[], yticks=[])\n",
        "    idx = np.where(train_labels[:]==i)[0]\n",
        "    features_idx = train_features[idx,::]\n",
        "    img_num = np.random.randint(features_idx.shape[0])\n",
        "    im = features_idx[img_num]\n",
        "    ax.set_title(class_names[i])\n",
        "    plt.imshow(im)\n",
        "plt.show()"
      ],
      "execution_count": 5,
      "outputs": [
        {
          "output_type": "display_data",
          "data": {
            "image/png": "[encoded data removed]",
            "text/plain": [
              "<Figure size 576x216 with 10 Axes>"
            ]
          },
          "metadata": {
            "tags": []
          }
        }
      ]
    },
    {
      "cell_type": "code",
      "metadata": {
        "id": "iA3E3WTU8pek",
        "colab_type": "code",
        "colab": {}
      },
      "source": [
        "def plot_model_history(model_history):\n",
        "    fig, axs = plt.subplots(1,2,figsize=(15,5))\n",
        "    # summarize history for accuracy\n",
        "    axs[0].plot(range(1,len(model_history.history['acc'])+1),model_history.history['acc'])\n",
        "    axs[0].plot(range(1,len(model_history.history['val_acc'])+1),model_history.history['val_acc'])\n",
        "    axs[0].set_title('Model Accuracy')\n",
        "    axs[0].set_ylabel('Accuracy')\n",
        "    axs[0].set_xlabel('Epoch')\n",
        "    axs[0].set_xticks(np.arange(1,len(model_history.history['acc'])+1),len(model_history.history['acc'])/10)\n",
        "    axs[0].legend(['train', 'val'], loc='best')\n",
        "    # summarize history for loss\n",
        "    axs[1].plot(range(1,len(model_history.history['loss'])+1),model_history.history['loss'])\n",
        "    axs[1].plot(range(1,len(model_history.history['val_loss'])+1),model_history.history['val_loss'])\n",
        "    axs[1].set_title('Model Loss')\n",
        "    axs[1].set_ylabel('Loss')\n",
        "    axs[1].set_xlabel('Epoch')\n",
        "    axs[1].set_xticks(np.arange(1,len(model_history.history['loss'])+1),len(model_history.history['loss'])/10)\n",
        "    axs[1].legend(['train', 'val'], loc='best')\n",
        "    plt.show()"
      ],
      "execution_count": 0,
      "outputs": []
    },
    {
      "cell_type": "code",
      "metadata": {
        "id": "ZD3F3wIw77w8",
        "colab_type": "code",
        "colab": {}
      },
      "source": [
        "# Augmentation sequence \n",
        "seq = iaa.OneOf([\n",
        "    iaa.Fliplr(), # horizontal flips\n",
        "    iaa.Affine(rotate=20)]) # roatation\n"
      ],
      "execution_count": 0,
      "outputs": []
    },
    {
      "cell_type": "code",
      "metadata": {
        "id": "7FIal_K89Pix",
        "colab_type": "code",
        "colab": {}
      },
      "source": [
        "def accuracy(test_x, test_y, model):\n",
        "    result = model.predict(test_x)\n",
        "    predicted_class = np.argmax(result, axis=1)\n",
        "    true_class = np.argmax(test_y, axis=1)\n",
        "    num_correct = np.sum(predicted_class == true_class) \n",
        "    accuracy = float(num_correct)/result.shape[0]\n",
        "    return (accuracy * 100)"
      ],
      "execution_count": 0,
      "outputs": []
    },
    {
      "cell_type": "code",
      "metadata": {
        "id": "eh5IifqM9XUp",
        "colab_type": "code",
        "colab": {}
      },
      "source": [
        "train_features = train_features.astype('float32')/255\n",
        "test_features = test_features.astype('float32')/255\n",
        "# convert class labels to binary class labels\n",
        "train_labels = np_utils.to_categorical(train_labels, num_classes)\n",
        "test_labels = np_utils.to_categorical(test_labels, num_classes)"
      ],
      "execution_count": 0,
      "outputs": []
    },
    {
      "cell_type": "code",
      "metadata": {
        "id": "hucQa6sV9bTV",
        "colab_type": "code",
        "colab": {
          "base_uri": "https://localhost:8080/",
          "height": 35
        },
        "outputId": "2edbdc6a-7e5e-4fe3-dcfb-a76da25753e9"
      },
      "source": [
        "train_labels.shape"
      ],
      "execution_count": 10,
      "outputs": [
        {
          "output_type": "execute_result",
          "data": {
            "text/plain": [
              "(50000, 10)"
            ]
          },
          "metadata": {
            "tags": []
          },
          "execution_count": 10
        }
      ]
    },
    {
      "cell_type": "code",
      "metadata": {
        "id": "RwW9a1rG4r9P",
        "colab_type": "code",
        "outputId": "92d1b526-10d2-4021-989d-2b2490147100",
        "colab": {
          "base_uri": "https://localhost:8080/",
          "height": 52
        }
      },
      "source": [
        "print(train_features.shape)\n",
        "print(test_features.shape)"
      ],
      "execution_count": 11,
      "outputs": [
        {
          "output_type": "stream",
          "text": [
            "(50000, 32, 32, 3)\n",
            "(10000, 32, 32, 3)\n"
          ],
          "name": "stdout"
        }
      ]
    },
    {
      "cell_type": "code",
      "metadata": {
        "id": "DWTB1zg39ge3",
        "colab_type": "code",
        "colab": {
          "base_uri": "https://localhost:8080/",
          "height": 55
        },
        "outputId": "233fa00b-f6fb-43ad-ce03-8931b7a79353"
      },
      "source": [
        "# first model\n",
        "'''\n",
        "model1 = Sequential()\n",
        "model1.add(SeparableConv2D(filters=48,kernel_size=(3,3),padding='same',use_bias=False,activation='relu', input_shape=(32,32,3))) # 32 * 32 * 16\n",
        "model1.add(BatchNormalization())\n",
        "model1.add(Dropout(0.2))\n",
        "\n",
        "model1.add(Convolution2D(filters=64,kernel_size=(3,3),  use_bias=False, activation='relu')) #30*30*32\n",
        "model1.add(BatchNormalization())\n",
        "model1.add(Dropout(0.2))\n",
        "\n",
        "model1.add(Convolution2D(filters=64,kernel_size=(3,3),  use_bias=False, activation='relu')) #28*28*64\n",
        "model1.add(BatchNormalization())\n",
        "model1.add(Dropout(0.2))\n",
        "\n",
        "model1.add(Convolution2D(filters=128,kernel_size=(3,3), use_bias=False, activation='relu')) #26*26*128\n",
        "model1.add(BatchNormalization())\n",
        "model1.add(Dropout(0.2))\n",
        "\n",
        "model1.add(MaxPooling2D(pool_size=(2,2))) #13*13*128\n",
        "model1.add(Dropout(0.2))\n",
        "\n",
        "model1.add(Convolution2D(filters=16,kernel_size=(1,1), use_bias=False, activation='relu')) # 13*13*16\n",
        "model1.add(BatchNormalization())\n",
        "model1.add(Dropout(0.2))\n",
        "\n",
        "model1.add(Convolution2D(filters=48,kernel_size=(3,3), use_bias=False, activation='relu')) # 11*11*32\n",
        "model1.add(BatchNormalization())\n",
        "model1.add(Dropout(0.2))\n",
        "\n",
        "model1.add(Convolution2D(filters=48,kernel_size=(3,3), use_bias=False, activation='relu')) #9*9*64\n",
        "model1.add(BatchNormalization())\n",
        "model1.add(Dropout(0.2))\n",
        "\n",
        "model1.add(Convolution2D(filters=48,kernel_size=(3,3), use_bias=False, activation='relu')) #7*7*128\n",
        "model1.add(BatchNormalization())\n",
        "model1.add(Dropout(0.2))\n",
        "\n",
        "model1.add(Convolution2D(filters=10,kernel_size=(7,7), use_bias=False, activation='relu')) #1*1*10\n",
        "model1.add(GlobalAveragePooling2D())\n",
        "model1.add(Activation('softmax'))\n",
        "\n",
        "\n",
        "model1.summary()\n",
        "\n",
        "'''"
      ],
      "execution_count": 13,
      "outputs": [
        {
          "output_type": "execute_result",
          "data": {
            "text/plain": [
              "\"\\nmodel1 = Sequential()\\nmodel1.add(SeparableConv2D(filters=48,kernel_size=(3,3),padding='same',use_bias=False,activation='relu', input_shape=(32,32,3))) # 32 * 32 * 16\\nmodel1.add(BatchNormalization())\\nmodel1.add(Dropout(0.2))\\n\\nmodel1.add(Convolution2D(filters=64,kernel_size=(3,3),  use_bias=False, activation='relu')) #30*30*32\\nmodel1.add(BatchNormalization())\\nmodel1.add(Dropout(0.2))\\n\\nmodel1.add(Convolution2D(filters=64,kernel_size=(3,3),  use_bias=False, activation='relu')) #28*28*64\\nmodel1.add(BatchNormalization())\\nmodel1.add(Dropout(0.2))\\n\\nmodel1.add(Convolution2D(filters=128,kernel_size=(3,3), use_bias=False, activation='relu')) #26*26*128\\nmodel1.add(BatchNormalization())\\nmodel1.add(Dropout(0.2))\\n\\nmodel1.add(MaxPooling2D(pool_size=(2,2))) #13*13*128\\nmodel1.add(Dropout(0.2))\\n\\nmodel1.add(Convolution2D(filters=16,kernel_size=(1,1), use_bias=False, activation='relu')) # 13*13*16\\nmodel1.add(BatchNormalization())\\nmodel1.add(Dropout(0.2))\\n\\nmodel1.add(Convolution2D(filters=48,kernel_size=(3,3), use_bias=False, activation='relu')) # 11*11*32\\nmodel1.add(BatchNormalization())\\nmodel1.add(Dropout(0.2))\\n\\nmodel1.add(Convolution2D(filters=48,kernel_size=(3,3), use_bias=False, activation='relu')) #9*9*64\\nmodel1.add(BatchNormalization())\\nmodel1.add(Dropout(0.2))\\n\\nmodel1.add(Convolution2D(filters=48,kernel_size=(3,3), use_bias=False, activation='relu')) #7*7*128\\nmodel1.add(BatchNormalization())\\nmodel1.add(Dropout(0.2))\\n\\nmodel1.add(Convolution2D(filters=10,kernel_size=(7,7), use_bias=False, activation='relu')) #1*1*10\\nmodel1.add(GlobalAveragePooling2D())\\nmodel1.add(Activation('softmax'))\\n\\n\\nmodel1.summary()\\n\\n\""
            ]
          },
          "metadata": {
            "tags": []
          },
          "execution_count": 13
        }
      ]
    },
    {
      "cell_type": "code",
      "metadata": {
        "id": "GnR-HdXH0H4n",
        "colab_type": "code",
        "colab": {
          "base_uri": "https://localhost:8080/",
          "height": 55
        },
        "outputId": "c2aa6e65-ad0a-4273-9e6d-a3c2efebe000"
      },
      "source": [
        "'''\n",
        "#trying with all depth wise conv2d last best\n",
        "model1 = Sequential()\n",
        "model1.add(SeparableConv2D(filters=32,kernel_size=(3,3),padding='same',use_bias=False, input_shape=(32,32,3))) # 32 * 32 * 48\n",
        "model1.add(BatchNormalization())\n",
        "model1.add(Dropout(0.2))\n",
        "\n",
        "model1.add(SeparableConv2D(filters=64,kernel_size=(3,3), activation='relu', use_bias=False)) #30*30*32\n",
        "model1.add(BatchNormalization())\n",
        "model1.add(Dropout(0.2))\n",
        "\n",
        "model1.add(SeparableConv2D(filters=128,kernel_size=(3,3),  use_bias=False, activation='relu')) #28*28*64\n",
        "model1.add(BatchNormalization())\n",
        "model1.add(Dropout(0.2))\n",
        "\n",
        "model1.add(SeparableConv2D(filters=128,kernel_size=(3,3), use_bias=False, activation='relu')) #26*26*128\n",
        "model1.add(BatchNormalization())\n",
        "model1.add(Dropout(0.2))\n",
        "\n",
        "model1.add(MaxPooling2D(pool_size=(2,2))) #13*13*128\n",
        "model1.add(Dropout(0.1))\n",
        "\n",
        "model1.add(SeparableConv2D(filters=32,kernel_size=(1,1), use_bias=False, activation='relu')) # 13*13*16\n",
        "model1.add(BatchNormalization())\n",
        "model1.add(Dropout(0.1))\n",
        "\n",
        "model1.add(SeparableConv2D(filters=64,kernel_size=(3,3), use_bias=False, activation='relu')) # 11*11*32\n",
        "model1.add(BatchNormalization())\n",
        "model1.add(Dropout(0.1))\n",
        "\n",
        "\n",
        "model1.add(SeparableConv2D(filters=64,kernel_size=(3,3), use_bias=False, activation='relu')) #9*9*64\n",
        "model1.add(BatchNormalization())\n",
        "model1.add(Dropout(0.1))\n",
        "\n",
        "model1.add(SeparableConv2D(filters=128,kernel_size=(3,3), use_bias=False, activation='relu')) #9*9*64\n",
        "model1.add(BatchNormalization())\n",
        "model1.add(Dropout(0.1))\n",
        "\n",
        "model1.add(SeparableConv2D(filters=128,kernel_size=(3,3), use_bias=False, activation='relu')) #7*7*128\n",
        "model1.add(BatchNormalization())\n",
        "model1.add(Dropout(0.1))\n",
        "\n",
        "model1.add(SeparableConv2D(filters=128,kernel_size=(3,3), use_bias=False, activation='relu')) #7*7*128\n",
        "model1.add(BatchNormalization())\n",
        "model1.add(Dropout(0.1))\n",
        "\n",
        "model1.add(SeparableConv2D(filters=10,kernel_size=(1,1), use_bias=False, activation='relu')) #7*7*128\n",
        "model1.add(BatchNormalization())\n",
        "model1.add(Dropout(0.1))\n",
        "\n",
        "#model1.add(SeparableConv2D(filters=10,kernel_size=(3,3), use_bias=False, activation='relu')) #1*1*10\n",
        "model1.add(GlobalAveragePooling2D())\n",
        "model1.add(Activation('softmax'))\n",
        "\n",
        "\n",
        "model1.summary()\n",
        "\n",
        "\n",
        "\n",
        "'''"
      ],
      "execution_count": 14,
      "outputs": [
        {
          "output_type": "execute_result",
          "data": {
            "text/plain": [
              "\"\\nmodel1 = Sequential()\\nmodel1.add(SeparableConv2D(filters=48,kernel_size=(3,3),padding='same',use_bias=False,activation='relu', input_shape=(32,32,3))) # 32 * 32 * 16\\nmodel1.add(BatchNormalization())\\nmodel1.add(Dropout(0.2))\\n\\nmodel1.add(Convolution2D(filters=64,kernel_size=(3,3),  use_bias=False, activation='relu')) #30*30*32\\nmodel1.add(BatchNormalization())\\nmodel1.add(Dropout(0.2))\\n\\nmodel1.add(Convolution2D(filters=64,kernel_size=(3,3),  use_bias=False, activation='relu')) #28*28*64\\nmodel1.add(BatchNormalization())\\nmodel1.add(Dropout(0.2))\\n\\nmodel1.add(Convolution2D(filters=128,kernel_size=(3,3), use_bias=False, activation='relu')) #26*26*128\\nmodel1.add(BatchNormalization())\\nmodel1.add(Dropout(0.2))\\n\\nmodel1.add(MaxPooling2D(pool_size=(2,2))) #13*13*128\\nmodel1.add(Dropout(0.2))\\n\\nmodel1.add(Convolution2D(filters=16,kernel_size=(1,1), use_bias=False, activation='relu')) # 13*13*16\\nmodel1.add(BatchNormalization())\\nmodel1.add(Dropout(0.2))\\n\\nmodel1.add(Convolution2D(filters=48,kernel_size=(3,3), use_bias=False, activation='relu')) # 11*11*32\\nmodel1.add(BatchNormalization())\\nmodel1.add(Dropout(0.2))\\n\\nmodel1.add(Convolution2D(filters=48,kernel_size=(3,3), use_bias=False, activation='relu')) #9*9*64\\nmodel1.add(BatchNormalization())\\nmodel1.add(Dropout(0.2))\\n\\nmodel1.add(Convolution2D(filters=48,kernel_size=(3,3), use_bias=False, activation='relu')) #7*7*128\\nmodel1.add(BatchNormalization())\\nmodel1.add(Dropout(0.2))\\n\\nmodel1.add(Convolution2D(filters=10,kernel_size=(7,7), use_bias=False, activation='relu')) #1*1*10\\nmodel1.add(GlobalAveragePooling2D())\\nmodel1.add(Activation('softmax'))\\n\\n\\nmodel1.summary()\\n\\n\""
            ]
          },
          "metadata": {
            "tags": []
          },
          "execution_count": 14
        }
      ]
    },
    {
      "cell_type": "code",
      "metadata": {
        "id": "gvmJan1H2xOB",
        "colab_type": "code",
        "colab": {
          "base_uri": "https://localhost:8080/",
          "height": 1000
        },
        "outputId": "43dcede8-f8f4-42e0-a274-f14db43fcf64"
      },
      "source": [
        "#trying with all depth wise conv2d\n",
        "model1 = Sequential()\n",
        "model1.add(SeparableConv2D(filters=32,kernel_size=(3,3),padding='same',use_bias=False, input_shape=(32,32,3))) # 32 * 32 * 48\n",
        "model1.add(BatchNormalization())\n",
        "model1.add(Dropout(0.2))\n",
        "\n",
        "model1.add(SeparableConv2D(filters=64,kernel_size=(3,3), activation='relu', use_bias=False)) #30*30*32\n",
        "model1.add(BatchNormalization())\n",
        "model1.add(Dropout(0.2))\n",
        "\n",
        "model1.add(SeparableConv2D(filters=128,kernel_size=(3,3),  use_bias=False, activation='relu')) #28*28*64\n",
        "model1.add(BatchNormalization())\n",
        "model1.add(Dropout(0.2))\n",
        "\n",
        "model1.add(SeparableConv2D(filters=128,kernel_size=(3,3), use_bias=False, activation='relu')) #26*26*128\n",
        "model1.add(BatchNormalization())\n",
        "model1.add(Dropout(0.2))\n",
        "\n",
        "model1.add(SeparableConv2D(filters=128,kernel_size=(3,3), use_bias=False, activation='relu')) #26*26*128\n",
        "model1.add(BatchNormalization())\n",
        "model1.add(Dropout(0.2))\n",
        "\n",
        "model1.add(MaxPooling2D(pool_size=(2,2))) #13*13*128\n",
        "model1.add(Dropout(0.1))\n",
        "\n",
        "model1.add(SeparableConv2D(filters=32,kernel_size=(1,1), use_bias=False, activation='relu')) # 13*13*16\n",
        "model1.add(BatchNormalization())\n",
        "model1.add(Dropout(0.1))\n",
        "\n",
        "model1.add(SeparableConv2D(filters=64,kernel_size=(3,3), use_bias=False, activation='relu')) # 11*11*32\n",
        "model1.add(BatchNormalization())\n",
        "model1.add(Dropout(0.1))\n",
        "\n",
        "\n",
        "model1.add(SeparableConv2D(filters=64,kernel_size=(3,3), use_bias=False, activation='relu')) #9*9*64\n",
        "model1.add(BatchNormalization())\n",
        "model1.add(Dropout(0.1))\n",
        "\n",
        "model1.add(SeparableConv2D(filters=128,kernel_size=(3,3), use_bias=False, activation='relu')) #9*9*64\n",
        "model1.add(BatchNormalization())\n",
        "model1.add(Dropout(0.1))\n",
        "\n",
        "model1.add(SeparableConv2D(filters=128,kernel_size=(3,3), use_bias=False, activation='relu')) #7*7*128\n",
        "model1.add(BatchNormalization())\n",
        "model1.add(Dropout(0.1))\n",
        "\n",
        "\n",
        "\n",
        "model1.add(SeparableConv2D(filters=10,kernel_size=(1,1), use_bias=False, activation='relu')) #7*7*128\n",
        "model1.add(BatchNormalization())\n",
        "model1.add(Dropout(0.1))\n",
        "\n",
        "#model1.add(SeparableConv2D(filters=10,kernel_size=(3,3), use_bias=False, activation='relu')) #1*1*10\n",
        "model1.add(GlobalAveragePooling2D())\n",
        "model1.add(Dense(units=10))\n",
        "model1.add(Dense(units=100))\n",
        "model1.add(Dense(units=10))\n",
        "model1.add(Activation('softmax'))\n",
        "\n",
        "\n",
        "model1.summary()\n",
        "\n"
      ],
      "execution_count": 30,
      "outputs": [
        {
          "output_type": "stream",
          "text": [
            "Model: \"sequential_11\"\n",
            "_________________________________________________________________\n",
            "Layer (type)                 Output Shape              Param #   \n",
            "=================================================================\n",
            "separable_conv2d_102 (Separa (None, 32, 32, 32)        123       \n",
            "_________________________________________________________________\n",
            "batch_normalization_103 (Bat (None, 32, 32, 32)        128       \n",
            "_________________________________________________________________\n",
            "dropout_113 (Dropout)        (None, 32, 32, 32)        0         \n",
            "_________________________________________________________________\n",
            "separable_conv2d_103 (Separa (None, 30, 30, 64)        2336      \n",
            "_________________________________________________________________\n",
            "batch_normalization_104 (Bat (None, 30, 30, 64)        256       \n",
            "_________________________________________________________________\n",
            "dropout_114 (Dropout)        (None, 30, 30, 64)        0         \n",
            "_________________________________________________________________\n",
            "separable_conv2d_104 (Separa (None, 28, 28, 128)       8768      \n",
            "_________________________________________________________________\n",
            "batch_normalization_105 (Bat (None, 28, 28, 128)       512       \n",
            "_________________________________________________________________\n",
            "dropout_115 (Dropout)        (None, 28, 28, 128)       0         \n",
            "_________________________________________________________________\n",
            "separable_conv2d_105 (Separa (None, 26, 26, 128)       17536     \n",
            "_________________________________________________________________\n",
            "batch_normalization_106 (Bat (None, 26, 26, 128)       512       \n",
            "_________________________________________________________________\n",
            "dropout_116 (Dropout)        (None, 26, 26, 128)       0         \n",
            "_________________________________________________________________\n",
            "separable_conv2d_106 (Separa (None, 24, 24, 128)       17536     \n",
            "_________________________________________________________________\n",
            "batch_normalization_107 (Bat (None, 24, 24, 128)       512       \n",
            "_________________________________________________________________\n",
            "dropout_117 (Dropout)        (None, 24, 24, 128)       0         \n",
            "_________________________________________________________________\n",
            "max_pooling2d_11 (MaxPooling (None, 12, 12, 128)       0         \n",
            "_________________________________________________________________\n",
            "dropout_118 (Dropout)        (None, 12, 12, 128)       0         \n",
            "_________________________________________________________________\n",
            "separable_conv2d_107 (Separa (None, 12, 12, 32)        4224      \n",
            "_________________________________________________________________\n",
            "batch_normalization_108 (Bat (None, 12, 12, 32)        128       \n",
            "_________________________________________________________________\n",
            "dropout_119 (Dropout)        (None, 12, 12, 32)        0         \n",
            "_________________________________________________________________\n",
            "separable_conv2d_108 (Separa (None, 10, 10, 64)        2336      \n",
            "_________________________________________________________________\n",
            "batch_normalization_109 (Bat (None, 10, 10, 64)        256       \n",
            "_________________________________________________________________\n",
            "dropout_120 (Dropout)        (None, 10, 10, 64)        0         \n",
            "_________________________________________________________________\n",
            "separable_conv2d_109 (Separa (None, 8, 8, 64)          4672      \n",
            "_________________________________________________________________\n",
            "batch_normalization_110 (Bat (None, 8, 8, 64)          256       \n",
            "_________________________________________________________________\n",
            "dropout_121 (Dropout)        (None, 8, 8, 64)          0         \n",
            "_________________________________________________________________\n",
            "separable_conv2d_110 (Separa (None, 6, 6, 128)         8768      \n",
            "_________________________________________________________________\n",
            "batch_normalization_111 (Bat (None, 6, 6, 128)         512       \n",
            "_________________________________________________________________\n",
            "dropout_122 (Dropout)        (None, 6, 6, 128)         0         \n",
            "_________________________________________________________________\n",
            "separable_conv2d_111 (Separa (None, 4, 4, 128)         17536     \n",
            "_________________________________________________________________\n",
            "batch_normalization_112 (Bat (None, 4, 4, 128)         512       \n",
            "_________________________________________________________________\n",
            "dropout_123 (Dropout)        (None, 4, 4, 128)         0         \n",
            "_________________________________________________________________\n",
            "separable_conv2d_112 (Separa (None, 4, 4, 10)          1408      \n",
            "_________________________________________________________________\n",
            "batch_normalization_113 (Bat (None, 4, 4, 10)          40        \n",
            "_________________________________________________________________\n",
            "dropout_124 (Dropout)        (None, 4, 4, 10)          0         \n",
            "_________________________________________________________________\n",
            "global_average_pooling2d_11  (None, 10)                0         \n",
            "_________________________________________________________________\n",
            "dense_1 (Dense)              (None, 10)                110       \n",
            "_________________________________________________________________\n",
            "dense_2 (Dense)              (None, 100)               1100      \n",
            "_________________________________________________________________\n",
            "dense_3 (Dense)              (None, 10)                1010      \n",
            "_________________________________________________________________\n",
            "activation_11 (Activation)   (None, 10)                0         \n",
            "=================================================================\n",
            "Total params: 91,087\n",
            "Trainable params: 89,275\n",
            "Non-trainable params: 1,812\n",
            "_________________________________________________________________\n"
          ],
          "name": "stdout"
        }
      ]
    },
    {
      "cell_type": "code",
      "metadata": {
        "id": "R_p7wWpNOClJ",
        "colab_type": "code",
        "colab": {}
      },
      "source": [
        "model1.compile(optimizer='adam', loss='categorical_crossentropy', metrics=['accuracy'])"
      ],
      "execution_count": 0,
      "outputs": []
    },
    {
      "cell_type": "code",
      "metadata": {
        "id": "pNb-NUFwP-aZ",
        "colab_type": "code",
        "colab": {
          "base_uri": "https://localhost:8080/",
          "height": 1000
        },
        "outputId": "c3494a57-e28d-4d61-ec24-33f236ede366"
      },
      "source": [
        "from keras.preprocessing.image import ImageDataGenerator\n",
        "\n",
        "datagen = ImageDataGenerator(zoom_range=0.0, \n",
        "                             horizontal_flip=True)\n",
        "\n",
        "\n",
        "# train the model\n",
        "start = time.time()\n",
        "# Train the model\n",
        "model_info = model1.fit_generator(datagen.flow(train_features, train_labels, batch_size = 250),\n",
        "                                 samples_per_epoch = train_features.shape[0], nb_epoch = 50,use_multiprocessing=True, \n",
        "                                 validation_data = (test_features, test_labels), verbose=1)\n",
        "end = time.time()\n",
        "print (\"Model took %0.2f seconds to train\"%(end - start))\n",
        "# plot model history\n",
        "plot_model_history(model_info)\n",
        "# compute test accuracy\n",
        "print (\"Accuracy on test data is: %0.2f\"%accuracy(test_features, test_labels, model1))"
      ],
      "execution_count": 32,
      "outputs": [
        {
          "output_type": "stream",
          "text": [
            "/usr/local/lib/python3.6/dist-packages/ipykernel_launcher.py:12: UserWarning: The semantics of the Keras 2 argument `steps_per_epoch` is not the same as the Keras 1 argument `samples_per_epoch`. `steps_per_epoch` is the number of batches to draw from the generator at each epoch. Basically steps_per_epoch = samples_per_epoch/batch_size. Similarly `nb_val_samples`->`validation_steps` and `val_samples`->`steps` arguments have changed. Update your method calls accordingly.\n",
            "  if sys.path[0] == '':\n",
            "/usr/local/lib/python3.6/dist-packages/ipykernel_launcher.py:12: UserWarning: Update your `fit_generator` call to the Keras 2 API: `fit_generator(<keras_pre..., use_multiprocessing=True, validation_data=(array([[[..., verbose=1, steps_per_epoch=200, epochs=50)`\n",
            "  if sys.path[0] == '':\n"
          ],
          "name": "stderr"
        },
        {
          "output_type": "stream",
          "text": [
            "Epoch 1/50\n",
            "200/200 [==============================] - 84s 419ms/step - loss: 1.7394 - acc: 0.3499 - val_loss: 1.7267 - val_acc: 0.4128\n",
            "Epoch 2/50\n",
            "200/200 [==============================] - 75s 373ms/step - loss: 1.2999 - acc: 0.5297 - val_loss: 1.3655 - val_acc: 0.5274\n",
            "Epoch 3/50\n",
            "200/200 [==============================] - 75s 375ms/step - loss: 1.1274 - acc: 0.5957 - val_loss: 1.1318 - val_acc: 0.5997\n",
            "Epoch 4/50\n",
            "200/200 [==============================] - 75s 375ms/step - loss: 1.0327 - acc: 0.6321 - val_loss: 1.0653 - val_acc: 0.6368\n",
            "Epoch 5/50\n",
            "200/200 [==============================] - 75s 375ms/step - loss: 0.9659 - acc: 0.6574 - val_loss: 1.0080 - val_acc: 0.6538\n",
            "Epoch 6/50\n",
            "200/200 [==============================] - 74s 372ms/step - loss: 0.9092 - acc: 0.6786 - val_loss: 0.9245 - val_acc: 0.6838\n",
            "Epoch 7/50\n",
            "200/200 [==============================] - 74s 372ms/step - loss: 0.8664 - acc: 0.6944 - val_loss: 0.9121 - val_acc: 0.6926\n",
            "Epoch 8/50\n",
            "200/200 [==============================] - 75s 373ms/step - loss: 0.8326 - acc: 0.7057 - val_loss: 1.0777 - val_acc: 0.6499\n",
            "Epoch 9/50\n",
            "200/200 [==============================] - 75s 374ms/step - loss: 0.7950 - acc: 0.7201 - val_loss: 0.9388 - val_acc: 0.6874\n",
            "Epoch 10/50\n",
            "200/200 [==============================] - 74s 372ms/step - loss: 0.7732 - acc: 0.7270 - val_loss: 0.8306 - val_acc: 0.7197\n",
            "Epoch 11/50\n",
            "200/200 [==============================] - 74s 372ms/step - loss: 0.7482 - acc: 0.7351 - val_loss: 0.8895 - val_acc: 0.6967\n",
            "Epoch 12/50\n",
            "200/200 [==============================] - 75s 375ms/step - loss: 0.7235 - acc: 0.7447 - val_loss: 0.7974 - val_acc: 0.7310\n",
            "Epoch 13/50\n",
            "200/200 [==============================] - 75s 374ms/step - loss: 0.7091 - acc: 0.7501 - val_loss: 0.7713 - val_acc: 0.7396\n",
            "Epoch 14/50\n",
            "200/200 [==============================] - 75s 375ms/step - loss: 0.6887 - acc: 0.7570 - val_loss: 0.8632 - val_acc: 0.7165\n",
            "Epoch 15/50\n",
            "200/200 [==============================] - 75s 373ms/step - loss: 0.6730 - acc: 0.7617 - val_loss: 0.8548 - val_acc: 0.7118\n",
            "Epoch 16/50\n",
            "200/200 [==============================] - 74s 372ms/step - loss: 0.6541 - acc: 0.7710 - val_loss: 0.8991 - val_acc: 0.7049\n",
            "Epoch 17/50\n",
            "200/200 [==============================] - 74s 371ms/step - loss: 0.6439 - acc: 0.7743 - val_loss: 0.7471 - val_acc: 0.7456\n",
            "Epoch 18/50\n",
            "200/200 [==============================] - 74s 372ms/step - loss: 0.6365 - acc: 0.7765 - val_loss: 0.7457 - val_acc: 0.7468\n",
            "Epoch 19/50\n",
            "200/200 [==============================] - 74s 372ms/step - loss: 0.6197 - acc: 0.7828 - val_loss: 0.7165 - val_acc: 0.7573\n",
            "Epoch 20/50\n",
            "200/200 [==============================] - 74s 372ms/step - loss: 0.6097 - acc: 0.7846 - val_loss: 0.8184 - val_acc: 0.7311\n",
            "Epoch 21/50\n",
            "200/200 [==============================] - 75s 374ms/step - loss: 0.6021 - acc: 0.7886 - val_loss: 0.6916 - val_acc: 0.7663\n",
            "Epoch 22/50\n",
            "200/200 [==============================] - 74s 372ms/step - loss: 0.5942 - acc: 0.7905 - val_loss: 0.7070 - val_acc: 0.7630\n",
            "Epoch 23/50\n",
            "200/200 [==============================] - 75s 375ms/step - loss: 0.5828 - acc: 0.7946 - val_loss: 0.7187 - val_acc: 0.7601\n",
            "Epoch 24/50\n",
            "200/200 [==============================] - 75s 374ms/step - loss: 0.5721 - acc: 0.8006 - val_loss: 0.7230 - val_acc: 0.7609\n",
            "Epoch 25/50\n",
            "200/200 [==============================] - 75s 375ms/step - loss: 0.5667 - acc: 0.7991 - val_loss: 0.7244 - val_acc: 0.7626\n",
            "Epoch 26/50\n",
            "200/200 [==============================] - 75s 373ms/step - loss: 0.5570 - acc: 0.8043 - val_loss: 0.6644 - val_acc: 0.7766\n",
            "Epoch 27/50\n",
            "200/200 [==============================] - 75s 373ms/step - loss: 0.5476 - acc: 0.8076 - val_loss: 0.7253 - val_acc: 0.7611\n",
            "Epoch 28/50\n",
            "200/200 [==============================] - 75s 374ms/step - loss: 0.5470 - acc: 0.8071 - val_loss: 0.7826 - val_acc: 0.7395\n",
            "Epoch 29/50\n",
            "200/200 [==============================] - 75s 373ms/step - loss: 0.5350 - acc: 0.8132 - val_loss: 0.7639 - val_acc: 0.7477\n",
            "Epoch 30/50\n",
            "200/200 [==============================] - 75s 374ms/step - loss: 0.5309 - acc: 0.8126 - val_loss: 0.6845 - val_acc: 0.7755\n",
            "Epoch 31/50\n",
            "200/200 [==============================] - 75s 375ms/step - loss: 0.5255 - acc: 0.8167 - val_loss: 0.6467 - val_acc: 0.7806\n",
            "Epoch 32/50\n",
            "200/200 [==============================] - 75s 376ms/step - loss: 0.5222 - acc: 0.8180 - val_loss: 0.6791 - val_acc: 0.7785\n",
            "Epoch 33/50\n",
            "200/200 [==============================] - 75s 373ms/step - loss: 0.5135 - acc: 0.8192 - val_loss: 0.6547 - val_acc: 0.7882\n",
            "Epoch 34/50\n",
            "200/200 [==============================] - 75s 373ms/step - loss: 0.5071 - acc: 0.8206 - val_loss: 0.6392 - val_acc: 0.7892\n",
            "Epoch 35/50\n",
            "200/200 [==============================] - 74s 372ms/step - loss: 0.4970 - acc: 0.8258 - val_loss: 0.6963 - val_acc: 0.7699\n",
            "Epoch 36/50\n",
            "200/200 [==============================] - 75s 374ms/step - loss: 0.4969 - acc: 0.8270 - val_loss: 0.6956 - val_acc: 0.7751\n",
            "Epoch 37/50\n",
            "200/200 [==============================] - 75s 373ms/step - loss: 0.4911 - acc: 0.8281 - val_loss: 0.7761 - val_acc: 0.7496\n",
            "Epoch 38/50\n",
            "200/200 [==============================] - 75s 373ms/step - loss: 0.4930 - acc: 0.8271 - val_loss: 0.7152 - val_acc: 0.7707\n",
            "Epoch 39/50\n",
            "200/200 [==============================] - 75s 375ms/step - loss: 0.4787 - acc: 0.8307 - val_loss: 0.7008 - val_acc: 0.7742\n",
            "Epoch 40/50\n",
            "200/200 [==============================] - 75s 375ms/step - loss: 0.4750 - acc: 0.8319 - val_loss: 0.6026 - val_acc: 0.7962\n",
            "Epoch 41/50\n",
            "200/200 [==============================] - 75s 376ms/step - loss: 0.4737 - acc: 0.8333 - val_loss: 0.6352 - val_acc: 0.7890\n",
            "Epoch 42/50\n",
            "200/200 [==============================] - 75s 374ms/step - loss: 0.4664 - acc: 0.8364 - val_loss: 0.6322 - val_acc: 0.7942\n",
            "Epoch 43/50\n",
            "200/200 [==============================] - 74s 372ms/step - loss: 0.4638 - acc: 0.8365 - val_loss: 0.6254 - val_acc: 0.7888\n",
            "Epoch 44/50\n",
            "200/200 [==============================] - 75s 373ms/step - loss: 0.4589 - acc: 0.8388 - val_loss: 0.6630 - val_acc: 0.7886\n",
            "Epoch 45/50\n",
            "200/200 [==============================] - 75s 373ms/step - loss: 0.4568 - acc: 0.8400 - val_loss: 0.6607 - val_acc: 0.7823\n",
            "Epoch 46/50\n",
            "200/200 [==============================] - 75s 373ms/step - loss: 0.4529 - acc: 0.8408 - val_loss: 0.6133 - val_acc: 0.8003\n",
            "Epoch 47/50\n",
            "200/200 [==============================] - 75s 374ms/step - loss: 0.4504 - acc: 0.8413 - val_loss: 0.6562 - val_acc: 0.7849\n",
            "Epoch 48/50\n",
            "200/200 [==============================] - 75s 375ms/step - loss: 0.4485 - acc: 0.8431 - val_loss: 0.5834 - val_acc: 0.8057\n",
            "Epoch 49/50\n",
            "200/200 [==============================] - 75s 375ms/step - loss: 0.4407 - acc: 0.8429 - val_loss: 0.6523 - val_acc: 0.7908\n",
            "Epoch 50/50\n",
            "200/200 [==============================] - 75s 374ms/step - loss: 0.4387 - acc: 0.8459 - val_loss: 0.6204 - val_acc: 0.8014\n",
            "Model took 3746.81 seconds to train\n"
          ],
          "name": "stdout"
        },
        {
          "output_type": "display_data",
          "data": {
            "image/png": "[encoded data removed]",
            "text/plain": [
              "<Figure size 1080x360 with 2 Axes>"
            ]
          },
          "metadata": {
            "tags": []
          }
        },
        {
          "output_type": "stream",
          "text": [
            "Accuracy on test data is: 80.14\n"
          ],
          "name": "stdout"
        }
      ]
    },
    {
      "cell_type": "code",
      "metadata": {
        "id": "qeCMqfknQCRD",
        "colab_type": "code",
        "colab": {
          "base_uri": "https://localhost:8080/",
          "height": 35
        },
        "outputId": "e810f05b-8168-4734-ecf5-560be6045d96"
      },
      "source": [
        "train_labels.shape"
      ],
      "execution_count": 55,
      "outputs": [
        {
          "output_type": "execute_result",
          "data": {
            "text/plain": [
              "(50000, 10, 10)"
            ]
          },
          "metadata": {
            "tags": []
          },
          "execution_count": 55
        }
      ]
    },
    {
      "cell_type": "code",
      "metadata": {
        "id": "abi_ori6UBVH",
        "colab_type": "code",
        "colab": {}
      },
      "source": [
        ""
      ],
      "execution_count": 0,
      "outputs": []
    }
  ]
}